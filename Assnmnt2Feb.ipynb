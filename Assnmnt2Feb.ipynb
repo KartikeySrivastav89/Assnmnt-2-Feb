{
 "cells": [
  {
   "cell_type": "code",
   "execution_count": 3,
   "id": "6a9bb3aa-7e4f-4adc-99ec-95053559af82",
   "metadata": {},
   "outputs": [
    {
     "name": "stdout",
     "output_type": "stream",
     "text": [
      "Kartik\n",
      "Narayan\n",
      "Srivastav\n"
     ]
    }
   ],
   "source": [
    "\"\"\"Ques No 1\"\"\"\n",
    "\n",
    "\"\"\"A for loop is typically used when you know exactly how many times \n",
    "you want to repeat a certain block of code. It is often used to iterate over a sequence of elements, \n",
    "such as a list or a range of numbers. Here's an example\"\"\"\n",
    "\n",
    "names = [\"Kartik\", \"Narayan\", \"Srivastav\"]\n",
    "for n in names:\n",
    "    print(n)"
   ]
  },
  {
   "cell_type": "code",
   "execution_count": 5,
   "id": "9e8bf175-95af-4dd7-b426-3a702bef7f90",
   "metadata": {},
   "outputs": [
    {
     "name": "stdout",
     "output_type": "stream",
     "text": [
      "1\n",
      "2\n",
      "3\n",
      "4\n",
      "5\n",
      "6\n",
      "7\n",
      "8\n",
      "9\n",
      "10\n"
     ]
    }
   ],
   "source": [
    "\"\"\"A while loop is typically used when you don't know ahead of time how many times you need to repeat a certain block of code. Instead, \n",
    "you specify a condition that must be true for the loop to continue running. Here's an example\"\"\"\n",
    "\n",
    "count = 1\n",
    "while count <= 10:\n",
    "    print(count)\n",
    "    count = count+1"
   ]
  },
  {
   "cell_type": "code",
   "execution_count": 7,
   "id": "6b9cd819-7dc7-4f16-be90-69f9d84fa83b",
   "metadata": {},
   "outputs": [
    {
     "name": "stdout",
     "output_type": "stream",
     "text": [
      "Sum of first 10 natural numbers: 55\n",
      "Product of first 10 natural numbers: 3628800\n"
     ]
    }
   ],
   "source": [
    "\"\"\"Ques No 2\"\"\"\n",
    "\n",
    "# Print sum and product of first 10 natural numbers using for loop\n",
    "\n",
    "# Sum\n",
    "sum = 0\n",
    "for i in range(1, 11):\n",
    "    sum = sum+i\n",
    "print(\"Sum of first 10 natural numbers:\", sum)\n",
    "\n",
    "# Product\n",
    "product = 1\n",
    "for i in range(1, 11):\n",
    "    product = product*i\n",
    "print(\"Product of first 10 natural numbers:\", product)"
   ]
  },
  {
   "cell_type": "code",
   "execution_count": 5,
   "id": "069779d6-5244-4858-b544-72e80626755c",
   "metadata": {},
   "outputs": [
    {
     "name": "stdout",
     "output_type": "stream",
     "text": [
      "Sum of first 10 natural numbers: 55\n",
      "Product of first 10 natural numbers: 3628800\n"
     ]
    }
   ],
   "source": [
    "# Print sum and product of first 10 natural numbers using while loop\n",
    "\n",
    "# Sum\n",
    "count = 0\n",
    "sum = 0\n",
    "while  count<=10:\n",
    "    sum = sum+count\n",
    "    count=count+1\n",
    "print(\"Sum of first 10 natural numbers:\", sum)\n",
    "\n",
    "# Product\n",
    "count = 1\n",
    "product = 1\n",
    "while  count<=10:\n",
    "    product = product*count\n",
    "    count=count+1\n",
    "print(\"Product of first 10 natural numbers:\", product)"
   ]
  },
  {
   "cell_type": "code",
   "execution_count": 4,
   "id": "4f8e09f8-7475-42c9-957f-a539a3f6eb30",
   "metadata": {},
   "outputs": [
    {
     "name": "stdin",
     "output_type": "stream",
     "text": [
      "Enter number of units used:  310\n"
     ]
    },
    {
     "name": "stdout",
     "output_type": "stream",
     "text": [
      "Electricity bill = Rs. 2250.0\n"
     ]
    }
   ],
   "source": [
    "\"\"\"Ques No 3\"\"\"\n",
    "\n",
    "# Compute electricity bill for a household\n",
    "\n",
    "# Input number of units used\n",
    "units = float(input(\"Enter number of units used: \"))\n",
    "\n",
    "# Compute bill based on unit rate\n",
    "if units<=100:\n",
    "    bill = 100*4.5\n",
    "elif units<=200:\n",
    "    bill = 100*4.5 + (units-100)*6\n",
    "elif units<=300:\n",
    "    bill = 100*4.5 + 100*6 +(units-200)*10\n",
    "else :\n",
    "    bill = 100*4.5 + 100*6 + 100*10 + (units-300)*20\n",
    "\n",
    "# Display bill amount\n",
    "print(\"Electricity bill = Rs.\", bill)"
   ]
  },
  {
   "cell_type": "code",
   "execution_count": 51,
   "id": "2e47b920-6916-4bd0-8545-2874c9df122f",
   "metadata": {},
   "outputs": [
    {
     "name": "stdout",
     "output_type": "stream",
     "text": [
      "List of numbers whose cube is divisible by 4 or 5: [2, 4, 5, 6, 8, 10, 12, 14, 15, 16, 18, 20, 22, 24, 25, 26, 28, 30, 32, 34, 35, 36, 38, 40, 42, 44, 45, 46, 48, 50, 52, 54, 55, 56, 58, 60, 62, 64, 65, 66, 68, 70, 72, 74, 75, 76, 78, 80, 82, 84, 85, 86, 88, 90, 92, 94, 95, 96, 98, 100]\n"
     ]
    }
   ],
   "source": [
    "\"\"\"Ques No 4\"\"\"\n",
    "\n",
    "# Create a list of cubes of numbers divisible by 4 or 5\n",
    "\n",
    "# Using while loop\n",
    "\n",
    "l1 = list(range(1,101))\n",
    "l2 = []\n",
    "i = 1\n",
    "\n",
    "while i <= len(l1):\n",
    "    cube = i **3\n",
    "    if cube % 4 == 0 or cube % 5 == 0:\n",
    "        l2.append(i)\n",
    "    i=i+1\n",
    "print(\"List of numbers whose cube is divisible by 4 or 5:\", l2)\n",
    "    "
   ]
  },
  {
   "cell_type": "code",
   "execution_count": 52,
   "id": "97d1d54b-500c-403f-8311-ba9508f53fb3",
   "metadata": {},
   "outputs": [
    {
     "name": "stdout",
     "output_type": "stream",
     "text": [
      "List of numbers whose cube is divisible by 4 or 5: [2, 4, 5, 6, 8, 10, 12, 14, 15, 16, 18, 20, 22, 24, 25, 26, 28, 30, 32, 34, 35, 36, 38, 40, 42, 44, 45, 46, 48, 50, 52, 54, 55, 56, 58, 60, 62, 64, 65, 66, 68, 70, 72, 74, 75, 76, 78, 80, 82, 84, 85, 86, 88, 90, 92, 94, 95, 96, 98, 100]\n"
     ]
    }
   ],
   "source": [
    "# Create a list of cubes of numbers divisible by 4 or 5\n",
    "\n",
    "# Using for loop\n",
    "\n",
    "l1 = list(range(1,101))\n",
    "l2 = []\n",
    "\n",
    "for i in l1:\n",
    "    cube = i **3\n",
    "    if cube % 4 == 0 or cube % 5 == 0 :\n",
    "        l2.append(i)\n",
    "        \n",
    "print(\"List of numbers whose cube is divisible by 4 or 5:\", l2)"
   ]
  },
  {
   "cell_type": "code",
   "execution_count": 3,
   "id": "5b2c3acc-0d6a-42fd-9dd2-f03ec5c7fe92",
   "metadata": {},
   "outputs": [
    {
     "name": "stdout",
     "output_type": "stream",
     "text": [
      "Number of vowels in the string:  12\n"
     ]
    }
   ],
   "source": [
    "\"\"\"Ques No 5\"\"\"\n",
    "\n",
    "# Count vowels in a string\n",
    "\n",
    "string = \"I want to become a data scientist\"\n",
    "vowels = 'aeiouAEIOU'\n",
    "count = 0\n",
    "\n",
    "for i in string:\n",
    "    if i in vowels:\n",
    "        count=count+1\n",
    "\n",
    "print(\"Number of vowels in the string: \", count)"
   ]
  },
  {
   "cell_type": "code",
   "execution_count": null,
   "id": "981d0d24-5093-4666-b8f5-ebb090893893",
   "metadata": {},
   "outputs": [],
   "source": []
  }
 ],
 "metadata": {
  "kernelspec": {
   "display_name": "Python 3 (ipykernel)",
   "language": "python",
   "name": "python3"
  },
  "language_info": {
   "codemirror_mode": {
    "name": "ipython",
    "version": 3
   },
   "file_extension": ".py",
   "mimetype": "text/x-python",
   "name": "python",
   "nbconvert_exporter": "python",
   "pygments_lexer": "ipython3",
   "version": "3.10.6"
  }
 },
 "nbformat": 4,
 "nbformat_minor": 5
}
